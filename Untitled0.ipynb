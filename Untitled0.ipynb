{
  "nbformat": 4,
  "nbformat_minor": 0,
  "metadata": {
    "colab": {
      "provenance": [],
      "toc_visible": true,
      "authorship_tag": "ABX9TyNbzi74F+bESynH2JnX3NDn",
      "include_colab_link": true
    },
    "kernelspec": {
      "name": "python3",
      "display_name": "Python 3"
    },
    "language_info": {
      "name": "python"
    }
  },
  "cells": [
    {
      "cell_type": "markdown",
      "metadata": {
        "id": "view-in-github",
        "colab_type": "text"
      },
      "source": [
        "<a href=\"https://colab.research.google.com/github/joeygl/gaasite/blob/main/Untitled0.ipynb\" target=\"_parent\"><img src=\"https://colab.research.google.com/assets/colab-badge.svg\" alt=\"Open In Colab\"/></a>"
      ]
    },
    {
      "cell_type": "code",
      "execution_count": null,
      "metadata": {
        "id": "9lgqGqTmSL0j"
      },
      "outputs": [],
      "source": []
    },
    {
      "cell_type": "code",
      "source": [
        "# GAA.ie Match Scorer Scraper for Google Colab\n",
        "import requests\n",
        "from bs4 import BeautifulSoup\n",
        "import pandas as pd\n",
        "import time\n",
        "import re\n",
        "\n",
        "BASE = \"https://www.gaa.ie\"\n",
        "HEADERS = {'User-Agent': 'Mozilla/5.0'}\n",
        "\n",
        "def get_recent_match_urls(limit=30):\n",
        "    url = f\"{BASE}/fixtures-results\"\n",
        "    r = requests.get(url, headers=HEADERS)\n",
        "    soup = BeautifulSoup(r.text, \"html.parser\")\n",
        "    links = []\n",
        "    for a in soup.find_all(\"a\", href=True):\n",
        "        href = a['href']\n",
        "        if \"/football/\" in href and (\"/match/\" in href or \"/article/\" in href):\n",
        "            full_url = BASE + href if href.startswith(\"/\") else href\n",
        "            if full_url not in links:\n",
        "                links.append(full_url)\n",
        "        if len(links) >= limit:\n",
        "            break\n",
        "    return links\n",
        "\n",
        "def parse_match_page(url):\n",
        "    try:\n",
        "        r = requests.get(url, headers=HEADERS, timeout=15)\n",
        "        soup = BeautifulSoup(r.text, \"html.parser\")\n",
        "        title = soup.find(\"h1\").get_text(strip=True) if soup.find(\"h1\") else url\n",
        "        text = soup.get_text(\" \", strip=True)\n",
        "        date = \"\"\n",
        "        for tag in soup.find_all(\"time\"):\n",
        "            if tag.has_attr(\"datetime\"):\n",
        "                date = tag['datetime'][:10]\n",
        "                break\n",
        "        teams = re.findall(r'([A-Z][a-z]+)\\s+v[s]?\\s+([A-Z][a-z]+)', title)\n",
        "        teamA, teamB = teams[0] if teams else (\"\", \"\")\n",
        "        scorer_lines = re.findall(r'([A-Z][A-Za-z\\'\\.\\- ]+)\\s+(\\d+)[–-](\\d+)(f?)', text)\n",
        "        match_data = []\n",
        "        for player, goals, points, is_free in scorer_lines:\n",
        "            match_data.append({\n",
        "                \"match_date\": date,\n",
        "                \"match_title\": title,\n",
        "                \"teamA\": teamA,\n",
        "                \"teamB\": teamB,\n",
        "                \"player\": player.strip(),\n",
        "                \"goals\": int(goals),\n",
        "                \"points\": int(points),\n",
        "                \"is_free\": bool(is_free),\n",
        "                \"match_url\": url\n",
        "            })\n",
        "        return match_data\n",
        "    except Exception as e:\n",
        "        print(f\"⚠️ Error in {url}: {e}\")\n",
        "        return []\n",
        "\n",
        "# ---- MAIN WORKFLOW ----\n",
        "all_match_rows = []\n",
        "match_urls = get_recent_match_urls(limit=40)\n",
        "print(f\"🟢 Found {len(match_urls)} recent matches to process.\")\n",
        "for i, url in enumerate(match_urls):\n",
        "    print(f\"  [{i+1}/{len(match_urls)}] Scraping {url}\")\n",
        "    match_rows = parse_match_page(url)\n",
        "    all_match_rows.extend(match_rows)\n",
        "    time.sleep(0.5)\n",
        "df = pd.DataFrame(all_match_rows)\n",
        "df.to_csv(\"gaa_match_player_scorers.csv\", index=False)\n",
        "df.to_json(\"gaa_match_player_scorers.json\", orient=\"records\")\n",
        "print(f\"\\n✅ Saved {len(df)} player-by-match scoring rows.\")\n",
        "\n",
        "# ---- PROVIDE DOWNLOAD LINK ----\n",
        "from google.colab import files\n",
        "files.download(\"gaa_match_player_scorers.csv\")\n"
      ],
      "metadata": {
        "colab": {
          "base_uri": "https://localhost:8080/",
          "height": 71
        },
        "id": "F4oQk_XVSPKD",
        "outputId": "ba6be78b-6ef8-4b1b-8c92-c88ead371cc5"
      },
      "execution_count": 1,
      "outputs": [
        {
          "output_type": "stream",
          "name": "stdout",
          "text": [
            "🟢 Found 0 recent matches to process.\n",
            "\n",
            "✅ Saved 0 player-by-match scoring rows.\n"
          ]
        },
        {
          "output_type": "display_data",
          "data": {
            "text/plain": [
              "<IPython.core.display.Javascript object>"
            ],
            "application/javascript": [
              "\n",
              "    async function download(id, filename, size) {\n",
              "      if (!google.colab.kernel.accessAllowed) {\n",
              "        return;\n",
              "      }\n",
              "      const div = document.createElement('div');\n",
              "      const label = document.createElement('label');\n",
              "      label.textContent = `Downloading \"${filename}\": `;\n",
              "      div.appendChild(label);\n",
              "      const progress = document.createElement('progress');\n",
              "      progress.max = size;\n",
              "      div.appendChild(progress);\n",
              "      document.body.appendChild(div);\n",
              "\n",
              "      const buffers = [];\n",
              "      let downloaded = 0;\n",
              "\n",
              "      const channel = await google.colab.kernel.comms.open(id);\n",
              "      // Send a message to notify the kernel that we're ready.\n",
              "      channel.send({})\n",
              "\n",
              "      for await (const message of channel.messages) {\n",
              "        // Send a message to notify the kernel that we're ready.\n",
              "        channel.send({})\n",
              "        if (message.buffers) {\n",
              "          for (const buffer of message.buffers) {\n",
              "            buffers.push(buffer);\n",
              "            downloaded += buffer.byteLength;\n",
              "            progress.value = downloaded;\n",
              "          }\n",
              "        }\n",
              "      }\n",
              "      const blob = new Blob(buffers, {type: 'application/binary'});\n",
              "      const a = document.createElement('a');\n",
              "      a.href = window.URL.createObjectURL(blob);\n",
              "      a.download = filename;\n",
              "      div.appendChild(a);\n",
              "      a.click();\n",
              "      div.remove();\n",
              "    }\n",
              "  "
            ]
          },
          "metadata": {}
        },
        {
          "output_type": "display_data",
          "data": {
            "text/plain": [
              "<IPython.core.display.Javascript object>"
            ],
            "application/javascript": [
              "download(\"download_0bd326d7-ab93-491b-be43-81c628bc9c7a\", \"gaa_match_player_scorers.csv\", 1)"
            ]
          },
          "metadata": {}
        }
      ]
    }
  ]
}